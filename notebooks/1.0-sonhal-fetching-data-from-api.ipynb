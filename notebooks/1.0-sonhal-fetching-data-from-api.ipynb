{
 "cells": [
  {
   "cell_type": "markdown",
   "metadata": {},
   "source": [
    "# Innhenting av data fra eksterne datakilder\n",
    "\n",
    "Som oftest så er dataene du behøver for å gjennomføre ett gitt data analyse prosjekt hentet fra eksterne kilder.\n",
    "Det er fullt mulig å manuelt laste ned data filene du trenger fra websider og flyte dem til de forskjellige mappene hvor du skal arbeide, men dette er ikke en god metode i det lange løp. Manuelt arbeid som dette må da dokumenters i tilegg til analyse arbeidet og muligheten for feil forstørres.\n",
    "\n",
    "\"Best practice\" i data science miljøet er å skrive skript som tar seg av innhetingen av data. Det er mange fordeler med dette. Innheting prosessen er da eksplisit dokumentert i kode og man sparer tid ved gjenntatte innhentinger.\n"
   ]
  },
  {
   "cell_type": "markdown",
   "metadata": {},
   "source": [
    "![title](resources/HTTP_request_response.svg)"
   ]
  },
  {
   "cell_type": "markdown",
   "metadata": {},
   "source": [
    "Vi skal ta i dette prosjektet ta i bruk data filer gjort tilgjengelig av NAV hos  __http://www.data.norge.no__\n",
    "\n",
    "Vi skal jobbe på data samlet inn om stillingsannonser som har blitt utlyst gjennom NAV i perioden 2002 - 2017"
   ]
  },
  {
   "cell_type": "markdown",
   "metadata": {},
   "source": [
    "#### I dette prosjektet så skal vi bruke python pakken Requests\n",
    "Requests er en python pakke som gjør skripting av HTTP baserte operasjoner lett og smertefritt\n",
    "<br>Dokumentasjon: __http://docs.python-requests.org/en/master/__\n",
    "<br><br>For mer informasjon ang HTTP som er den grunnleggende protokolen som styrer kommunikasjonen til websider og det fleste tilgjengelige APIer:<br>\n",
    "__https://developer.mozilla.org/en-US/docs/Web/HTTP/Overview__"
   ]
  },
  {
   "cell_type": "markdown",
   "metadata": {},
   "source": [
    "Vi kan bruke requests til å gjøre kall til nettsider akkurat som en nettleser gjør."
   ]
  },
  {
   "cell_type": "code",
   "execution_count": 5,
   "metadata": {},
   "outputs": [
    {
     "data": {
      "text/plain": [
       "200"
      ]
     },
     "execution_count": 5,
     "metadata": {},
     "output_type": "execute_result"
    }
   ],
   "source": [
    "import requests\n",
    "\n",
    "#gjør kall til google.com med HTTP metoden \"GET\"\n",
    "result = r = requests.get(\"https://google.com\")\n",
    "\n",
    "#Serveren returnerer HTTP status kode 200 hvis kallet ble gjennomført uten feil.\n",
    "r.status_code"
   ]
  },
  {
   "cell_type": "code",
   "execution_count": 13,
   "metadata": {},
   "outputs": [
    {
     "name": "stdout",
     "output_type": "stream",
     "text": [
      "arbeids_utlysininger_2017.csv er lagret under: ../data/raw\n"
     ]
    }
   ],
   "source": [
    "# os er en innebygd python pakke som gir oss tigang til å interaktere med operativsystemet.\n",
    "import os\n",
    "\n",
    "api_url = \"https://hotell.difi.no/download/nav/ledige-stillinger/2017\"\n",
    "\n",
    "#Finner path til data/raw mappen hvor vi legger rå data.\n",
    "file_name = \"arbeids_utlysininger_2017.csv\"\n",
    "data_path = os.path.join(os.path.pardir, \"data\", \"raw\")\n",
    "write_path = os.path.join(data_path, file_name)\n",
    "\n",
    "#Henter data settet fra API endepunktet med HTTP GET\n",
    "result = requests.get(api_url)\n",
    "\n",
    "#Hvis vi kallet var suksessfult og vi har motatt data så lagrer vi data settet i rå data mappen.\n",
    "if result.status_code == 200:\n",
    "        with open(write_path, \"wb\") as handle:\n",
    "            for block in result.iter_content(1024):\n",
    "                handle.write(block)\n",
    "        if os.path.isfile(write_path):\n",
    "            print(file_name + \" er lagret under: \" + data_path)\n",
    "else:\n",
    "    print(\"Kunne ikke laste ned data settet | HTTP Response: \" + str(result.status_code))\n"
   ]
  },
  {
   "cell_type": "markdown",
   "metadata": {},
   "source": []
  }
 ],
 "metadata": {
  "kernelspec": {
   "display_name": "Python 3",
   "language": "python",
   "name": "python3"
  },
  "language_info": {
   "codemirror_mode": {
    "name": "ipython",
    "version": 3
   },
   "file_extension": ".py",
   "mimetype": "text/x-python",
   "name": "python",
   "nbconvert_exporter": "python",
   "pygments_lexer": "ipython3",
   "version": "3.6.5"
  }
 },
 "nbformat": 4,
 "nbformat_minor": 2
}
