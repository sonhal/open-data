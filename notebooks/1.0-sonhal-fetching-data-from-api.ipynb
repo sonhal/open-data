{
 "cells": [
  {
   "cell_type": "markdown",
   "metadata": {},
   "source": [
    "# Innhenting av data fra eksterne datakilder\n",
    "\n",
    "Som oftest så er dataene du behøver for å gjennomføre ett gitt data analyse prosjekt hentet fra eksterne kilder.\n",
    "Det er fullt mulig å manuelt laste ned data filene du trenger fra websider og flyte dem til de forskjellige mappene hvor du skal arbeide, men dette er ikke en god metode i det lange løp. Manuelt arbeid som dette må da dokumenters i tilegg til analyse arbeidet og muligheten for feil forstørres.\n",
    "\n",
    "\"Best practice\" i data science miljøet er å skrive skript som tar seg av innhetingen av data. Det er mange fordeler med dette. Innheting prosessen er da eksplisit dokumentert i kode og man sparer tid ved gjenntatte innhentinger.\n"
   ]
  },
  {
   "cell_type": "markdown",
   "metadata": {},
   "source": [
    "![title](resources/HTTP_request_response.svg)"
   ]
  },
  {
   "cell_type": "markdown",
   "metadata": {},
   "source": [
    "Vi skal ta i dette prosjektet ta i bruk data filer gjort tilgjengelig av NAV hos  __http://www.data.norge.no__\n",
    "\n",
    "Vi skal jobbe på data samlet inn om stillingsannonser som har blitt utlyst gjennom NAV i perioden 2002 - 2017"
   ]
  },
  {
   "cell_type": "markdown",
   "metadata": {},
   "source": [
    "#### I dette prosjektet så skal vi bruke python pakken Requests\n",
    "Requests er en python pakke som gjør skripting av HTTP baserte operasjoner lett og smertefritt\n",
    "<br>Dokumentasjon: __http://docs.python-requests.org/en/master/__\n",
    "<br><br>For mer informasjon ang HTTP som er den grunnleggende protokolen som styrer kommunikasjonen til websider og det fleste tilgjengelige APIer på nett:<br>\n",
    "__https://developer.mozilla.org/en-US/docs/Web/HTTP/Overview__"
   ]
  },
  {
   "cell_type": "markdown",
   "metadata": {},
   "source": [
    "Vi kan bruke requests til å gjøre kall til nettsteder akkurat som en nettleser gjør."
   ]
  },
  {
   "cell_type": "code",
   "execution_count": 1,
   "metadata": {},
   "outputs": [
    {
     "data": {
      "text/plain": [
       "200"
      ]
     },
     "execution_count": 1,
     "metadata": {},
     "output_type": "execute_result"
    }
   ],
   "source": [
    "import requests\n",
    "\n",
    "#gjør kall til google.com med HTTP GET metoden\n",
    "result = r = requests.get(\"https://google.com\")\n",
    "\n",
    "#Serveren returnerer HTTP status kode 200 hvis kallet ble gjennomført uten feil.\n",
    "r.status_code\n",
    "\n",
    "#Du kan se HTML returnert i kallet ved å fjerne # tegnet under og kjøre blokken på nytt\n",
    "#r.content"
   ]
  },
  {
   "cell_type": "markdown",
   "metadata": {},
   "source": [
    "## Innhenting av CSV datafiler\n",
    "CSV er en vanlig brukt fil type for data sett og er standard måten å hente ut arbeids utlysing data settet."
   ]
  },
  {
   "cell_type": "code",
   "execution_count": 13,
   "metadata": {},
   "outputs": [
    {
     "name": "stdout",
     "output_type": "stream",
     "text": [
      "arbeids_utlysininger_2017.csv er lagret under: ../data/raw\n"
     ]
    }
   ],
   "source": [
    "# os er en innebygd python pakke som gir oss tigang til å interaktere med operativsystemet.\n",
    "import os\n",
    "\n",
    "#URL til API endepunket for data om stillings annonser utlyst i 2017\n",
    "api_url = \"https://hotell.difi.no/download/nav/ledige-stillinger/2017\"\n",
    "\n",
    "#Finner path til data/raw mappen hvor vi legger rå data.\n",
    "file_name = \"arbeids_utlysininger_2017.csv\"\n",
    "data_path = os.path.join(os.path.pardir, \"data\", \"raw\")\n",
    "write_path = os.path.join(data_path, file_name)\n",
    "\n",
    "#Henter data settet fra API endepunktet med HTTP GET\n",
    "result = requests.get(api_url)\n",
    "\n",
    "#Hvis vi kallet var suksessfult og vi har motatt data så lagrer vi data settet i rå data mappen.\n",
    "if result.status_code == 200:\n",
    "        with open(write_path, \"wb\") as handle:\n",
    "            for block in result.iter_content(1024):\n",
    "                handle.write(block)\n",
    "        if os.path.isfile(write_path):\n",
    "            print(file_name + \" er lagret under: \" + data_path)\n",
    "else:\n",
    "    print(\"Kunne ikke laste ned data settet | HTTP Response: \" + str(result.status_code))\n"
   ]
  },
  {
   "cell_type": "markdown",
   "metadata": {},
   "source": [
    "## Innhenting av JSON\n",
    "Vi kan også hente ut data settet i JSON formatet. JSON er et relativt nytt format for å transportere data, men har raskt blitt det vanligste transport formatet av data til og fra APIer på nett."
   ]
  },
  {
   "cell_type": "code",
   "execution_count": 50,
   "metadata": {},
   "outputs": [],
   "source": [
    "import os\n",
    "import pandas as pd\n",
    "import codecs\n",
    "import json\n",
    "\n",
    "#JSON api URLen for ledige stillinger datasettet 2017\n",
    "json_api_url = \"https://hotell.difi.no/api/json/nav/ledige-stillinger/2017\"\n",
    "\n",
    "\n",
    "#Setter filnavn og finner path til data/raw mappen hvor vi legger rå data.\n",
    "file_name = \"arbeids_utlysininger_2017.json\"\n",
    "data_path = os.path.join(os.path.pardir, \"data\", \"raw\")\n",
    "write_path = os.path.join(data_path, file_name)\n",
    "\n",
    "#Henter data settet fra API endepunktet med HTTP GET\n",
    "result = requests.get(json_api_url)\n",
    "\n",
    "#Skriver data til disk\n",
    "with open(write_path, 'wb') as f:\n",
    "    for block in result.iter_content(1024):\n",
    "            f.write(block)"
   ]
  },
  {
   "cell_type": "markdown",
   "metadata": {},
   "source": [
    "## Hjelpe skript"
   ]
  },
  {
   "cell_type": "markdown",
   "metadata": {},
   "source": [
    "For å gjøre data innhentingen litt enklere har vi laget skripts som tar seg av dette deg. Alt du trenger å gjøre er å importere modulen inn i notebooken din og kalle funskjonene du trenger.<br><br>\n",
    "Hjelpe skriptene for innhenting av data ligger i src.data pakken.\n",
    "<br><br>\n",
    "Eks:"
   ]
  },
  {
   "cell_type": "markdown",
   "metadata": {},
   "source": [
    "### CSV"
   ]
  },
  {
   "cell_type": "code",
   "execution_count": 1,
   "metadata": {},
   "outputs": [],
   "source": [
    "#Hjelpe skriptet for innheting av ledige stillinger dataset\n",
    "from src.data import make_work_ads_data_set"
   ]
  },
  {
   "cell_type": "code",
   "execution_count": 2,
   "metadata": {},
   "outputs": [
    {
     "data": {
      "text/plain": [
       "'file:///Users/H153869/dev/nav_ds/nav_a%CC%8Apne_data/notebooks/../data/raw/examplefile.csv'"
      ]
     },
     "execution_count": 2,
     "metadata": {},
     "output_type": "execute_result"
    }
   ],
   "source": [
    "#Innheter et dataset for et git år og lagrer det under gitt navn\n",
    "make_work_ads_data_set.make_data_set_for_year(2003, \"../data/raw/examplefile.csv\")"
   ]
  },
  {
   "cell_type": "code",
   "execution_count": 5,
   "metadata": {},
   "outputs": [
    {
     "name": "stdout",
     "output_type": "stream",
     "text": [
      "Downloading...\n",
      "Downloading work ad data set for year: 2002\n",
      "Downloading work ad data set for year: 2003\n",
      "Downloading work ad data set for year: 2004\n",
      "Downloading work ad data set for year: 2005\n",
      "Downloading work ad data set for year: 2006\n",
      "Downloading work ad data set for year: 2007\n",
      "Downloading work ad data set for year: 2008\n",
      "Downloading work ad data set for year: 2009\n",
      "Downloading work ad data set for year: 2010\n",
      "Downloading work ad data set for year: 2011\n",
      "Downloading work ad data set for year: 2012\n",
      "Downloading work ad data set for year: 2013\n",
      "Downloading work ad data set for year: 2014\n",
      "Downloading work ad data set for year: 2015\n",
      "Downloading work ad data set for year: 2016\n",
      "Downloading work ad data set for year: 2017\n",
      "Completed download successfully\n"
     ]
    }
   ],
   "source": [
    "#Innhenter alle tilgjengelige ledige stillinger dataset 2002-2017\n",
    "make_work_ads_data_set.make_complete_data_set(\"../data/raw/work_ad\")"
   ]
  },
  {
   "cell_type": "code",
   "execution_count": 4,
   "metadata": {},
   "outputs": [
    {
     "data": {
      "text/plain": [
       "'/Users/H153869/dev/nav_ds/nav_åpne_data/notebooks'"
      ]
     },
     "execution_count": 4,
     "metadata": {},
     "output_type": "execute_result"
    }
   ],
   "source": [
    "%pwd"
   ]
  },
  {
   "cell_type": "code",
   "execution_count": null,
   "metadata": {},
   "outputs": [],
   "source": []
  }
 ],
 "metadata": {
  "kernelspec": {
   "display_name": "Python 3",
   "language": "python",
   "name": "python3"
  },
  "language_info": {
   "codemirror_mode": {
    "name": "ipython",
    "version": 3
   },
   "file_extension": ".py",
   "mimetype": "text/x-python",
   "name": "python",
   "nbconvert_exporter": "python",
   "pygments_lexer": "ipython3",
   "version": "3.6.5"
  }
 },
 "nbformat": 4,
 "nbformat_minor": 2
}
