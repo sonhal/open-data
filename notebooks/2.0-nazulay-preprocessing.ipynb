{
 "cells": [
  {
   "cell_type": "markdown",
   "metadata": {},
   "source": []
  },
  {
   "cell_type": "markdown",
   "metadata": {},
   "source": [
    "# Preprossesering med Python\n",
    "\n",
    "Før vi kan begynne å jobbe med dataene må vi ta en titt på dem og se at alt ser ok ut, og rense opp der det ikke gjøre det. Vi må sjekke at alt har blitt lastet inn skikkelig, at alle kolonner er av riktig type og se om det er noen kolonner som mangler for mye informasjon til at vi får brukt dem. Denne første fasen kalles preprossesering og er veldig viktig for å bli kjent med datasettet og få god datakvalitet for de påfølgende analysene. \n",
    "\n",
    "Vi starter med å importere pakkene vi trenger og å laste inn dataene over ledige stillinger fra 2002 til 2017:"
   ]
  },
  {
   "cell_type": "code",
   "execution_count": 21,
   "metadata": {},
   "outputs": [],
   "source": [
    "import numpy as np\n",
    "import pandas as pd\n",
    "\n",
    "from IPython.core.interactiveshell import InteractiveShell\n",
    "InteractiveShell.ast_node_interactivity = \"all\""
   ]
  },
  {
   "cell_type": "markdown",
   "metadata": {},
   "source": [
    "Det er lurt å se på filene før vi importerer dem. Da ser vi at '\\*' brukes som tegn for manglende data, og kan 'si' det videre til read_csv-funksjonen. Hos meg så blir csv'er lagret som semikolonseparerte filer i stedet for kommaseparerte. Hvis dine er kommaseparerte er det bare å fjerne sep-argumentet i koden under, ettersom funksjonen som default forventer en kommaseparert fil."
   ]
  },
  {
   "cell_type": "code",
   "execution_count": 5,
   "metadata": {},
   "outputs": [
    {
     "name": "stderr",
     "output_type": "stream",
     "text": [
      "/Users/A153722/anaconda3/lib/python3.6/site-packages/IPython/core/interactiveshell.py:2785: DtypeWarning: Columns (0,1) have mixed types. Specify dtype option on import or set low_memory=False.\n",
      "  interactivity=interactivity, compiler=compiler, result=result)\n"
     ]
    }
   ],
   "source": [
    "period = [2002, 2017]\n",
    "jobs = pd.DataFrame()\n",
    "\n",
    "for year in range(period[0], period[1]+1):\n",
    "    file = '/Users/A153722/Documents/apne data/data/Ledigestillinger_'+str(year)+'.csv'\n",
    "    yearly = pd.read_csv(file, na_values='*', sep=';')\n",
    "    jobs = jobs.append(yearly, ignore_index=True)\n"
   ]
  },
  {
   "cell_type": "markdown",
   "metadata": {},
   "source": [
    "Når vi laster inn dataene så får vi en feilmelding - kolonne 0 og 1 har blandede datatyper. Ser vi i filene så ser det ut som begge kolonnene skal være numeriske, så det har nok sneket seg inn litt tekst innimellom tallene. Hvis vi legger til 'print(year)' i loopen over så ser vi at problemet stammer fra 2005-filen."
   ]
  },
  {
   "cell_type": "markdown",
   "metadata": {},
   "source": [
    "La oss først bare sjekke at 2015 har blitt lastet inn. Jeg legger til en kolonne med årstallene for å få oppsummeringen gruppert på år i stedet for måned."
   ]
  },
  {
   "cell_type": "code",
   "execution_count": 13,
   "metadata": {},
   "outputs": [
    {
     "data": {
      "text/plain": [
       "2002    149719\n",
       "2003    129948\n",
       "2004    132774\n",
       "2005    157622\n",
       "2006    214729\n",
       "2007    255421\n",
       "2008    230474\n",
       "2009    167756\n",
       "2010    158195\n",
       "2011    167762\n",
       "2012    160014\n",
       "2013    143281\n",
       "2014    135097\n",
       "2015    135871\n",
       "2016    147173\n",
       "2017    176285\n",
       "Name: aarstall, dtype: int64"
      ]
     },
     "execution_count": 13,
     "metadata": {},
     "output_type": "execute_result"
    }
   ],
   "source": [
    "#yyyymm -> yyyy\n",
    "jobs['aarstall'] = jobs.statistikk_aar_mnd//100\n",
    "jobs['aarstall'].value_counts(sort=False)"
   ]
  },
  {
   "cell_type": "markdown",
   "metadata": {},
   "source": [
    "Her ser vi at alle år er med. Men selv om kollonnene (hovedsakelig) består av tall så er ikke dette *egentlig* numeriske data - verdiene betyr ikke noe i seg selv, og rekkefølgen har ingenting å si. Det er egentlig (nominelle) kategoriske data. Vi kan la kolonnene stå som string, eller vi kan gjøre dem om til 'categorical', så Python kjenner dem igjen som det. Før vi bestemmer oss kan vi sjekke hvor mange grupper det ville blitt i så fall, og hvilken type de har nå."
   ]
  },
  {
   "cell_type": "code",
   "execution_count": 24,
   "metadata": {},
   "outputs": [
    {
     "data": {
      "text/plain": [
       "2529269"
      ]
     },
     "execution_count": 24,
     "metadata": {},
     "output_type": "execute_result"
    },
    {
     "data": {
      "text/plain": [
       "756"
      ]
     },
     "execution_count": 24,
     "metadata": {},
     "output_type": "execute_result"
    },
    {
     "data": {
      "text/plain": [
       "dtype('O')"
      ]
     },
     "execution_count": 24,
     "metadata": {},
     "output_type": "execute_result"
    },
    {
     "data": {
      "text/plain": [
       "dtype('O')"
      ]
     },
     "execution_count": 24,
     "metadata": {},
     "output_type": "execute_result"
    }
   ],
   "source": [
    "jobs['stillingsnummer'].value_counts().size\n",
    "jobs['nav_enhet_kode'].value_counts().size\n",
    "\n",
    "jobs['stillingsnummer'].dtype\n",
    "jobs['nav_enhet_kode'].dtype"
   ]
  },
  {
   "cell_type": "markdown",
   "metadata": {},
   "source": [
    "Begge kolonnene er lagret som objects, som vil si string. En ting jeg har lært mens jeg undersøkte disse to kolonnene er at selv om kolonnene er lagret som objects så oppfører de seg som tall, med unntak av de fra 2015-filen. Bare se her:"
   ]
  },
  {
   "cell_type": "code",
   "execution_count": 25,
   "metadata": {},
   "outputs": [
    {
     "data": {
      "text/plain": [
       "0"
      ]
     },
     "execution_count": 25,
     "metadata": {},
     "output_type": "execute_result"
    },
    {
     "data": {
      "text/plain": [
       "6"
      ]
     },
     "execution_count": 25,
     "metadata": {},
     "output_type": "execute_result"
    },
    {
     "data": {
      "text/plain": [
       "4"
      ]
     },
     "execution_count": 25,
     "metadata": {},
     "output_type": "execute_result"
    },
    {
     "data": {
      "text/plain": [
       "0"
      ]
     },
     "execution_count": 25,
     "metadata": {},
     "output_type": "execute_result"
    }
   ],
   "source": [
    "# Random number from 2002 does not match with string-search:\n",
    "sum(jobs.stillingsnummer == '2041200211000000')\n",
    "#But matches with number-search:\n",
    "sum(jobs.stillingsnummer == 2041200211000000)\n",
    "\n",
    "#Random number from 2005 does match with string-search:\n",
    "sum(jobs.stillingsnummer == '2041200512000000')\n",
    "#But not with number-search:\n",
    "sum(jobs.stillingsnummer == 2041200512000000)"
   ]
  },
  {
   "cell_type": "markdown",
   "metadata": {},
   "source": [
    "Så vi må gjøre et lite triks for å ikke få overlappende kategorier:"
   ]
  },
  {
   "cell_type": "code",
   "execution_count": 26,
   "metadata": {},
   "outputs": [
    {
     "data": {
      "text/plain": [
       "6"
      ]
     },
     "execution_count": 26,
     "metadata": {},
     "output_type": "execute_result"
    }
   ],
   "source": [
    "jobs.iloc[:, 0:2]  = jobs.iloc[:, 0:2].astype(str)\n",
    "\n",
    "#Number from 2002\n",
    "sum(jobs.stillingsnummer == '2041200211000000')"
   ]
  },
  {
   "cell_type": "markdown",
   "metadata": {},
   "source": [
    "Etter å ha gjort om kolonnen til string så får vi altså treff med søk på string også utenfor 2005-filen. Dette har også kosekvenser for grupperingen:"
   ]
  },
  {
   "cell_type": "code",
   "execution_count": 27,
   "metadata": {},
   "outputs": [
    {
     "data": {
      "text/plain": [
       "2529245"
      ]
     },
     "execution_count": 27,
     "metadata": {},
     "output_type": "execute_result"
    },
    {
     "data": {
      "text/plain": [
       "704"
      ]
     },
     "execution_count": 27,
     "metadata": {},
     "output_type": "execute_result"
    }
   ],
   "source": [
    "jobs['stillingsnummer'].value_counts().size\n",
    "jobs['nav_enhet_kode'].value_counts().size"
   ]
  },
  {
   "cell_type": "markdown",
   "metadata": {},
   "source": [
    "Det er 704 ulike nav-enheter og litt over 2.5 millioner unike stillingsnummer, nesten like mange som det er rader i dataframen vår. For stillingsnummerene gir det mest mening å beholde dem som strings, siden det er noe som en (ikke-unik) ID. Enhetskodene kan vi derimot kode om til kategorier."
   ]
  },
  {
   "cell_type": "code",
   "execution_count": 29,
   "metadata": {},
   "outputs": [
    {
     "data": {
      "text/plain": [
       "CategoricalDtype(categories=['100', '1001', '1002', '1003', '1004', '1008', '101', '1010',\n",
       "                  '1014', '1015',\n",
       "                  ...\n",
       "                  '928', '929', '935', '937', '938', '940', '941', '950',\n",
       "                  '9999', 'aetat'],\n",
       "                 ordered=False)"
      ]
     },
     "execution_count": 29,
     "metadata": {},
     "output_type": "execute_result"
    }
   ],
   "source": [
    "jobs.nav_enhet_kode = jobs.nav_enhet_kode.astype('category')\n",
    "jobs.nav_enhet_kode.dtypes  # check if it worked"
   ]
  },
  {
   "cell_type": "markdown",
   "metadata": {},
   "source": [
    "Nå kan vi fortsette med å undersøke dataene. Vi kan starte med å bare se på de første fem radene for å få en følelse av dataene. For å få med alle kolonnene må vi endre en instilling."
   ]
  },
  {
   "cell_type": "code",
   "execution_count": 30,
   "metadata": {},
   "outputs": [
    {
     "data": {
      "text/html": [
       "<div>\n",
       "<style scoped>\n",
       "    .dataframe tbody tr th:only-of-type {\n",
       "        vertical-align: middle;\n",
       "    }\n",
       "\n",
       "    .dataframe tbody tr th {\n",
       "        vertical-align: top;\n",
       "    }\n",
       "\n",
       "    .dataframe thead th {\n",
       "        text-align: right;\n",
       "    }\n",
       "</style>\n",
       "<table border=\"1\" class=\"dataframe\">\n",
       "  <thead>\n",
       "    <tr style=\"text-align: right;\">\n",
       "      <th></th>\n",
       "      <th>stillingsnummer</th>\n",
       "      <th>nav_enhet_kode</th>\n",
       "      <th>registrert_dato</th>\n",
       "      <th>sistepubl_dato</th>\n",
       "      <th>statistikk_aar_mnd</th>\n",
       "      <th>offisiell_statistikk_flagg</th>\n",
       "      <th>stilling_kilde</th>\n",
       "      <th>arbeidssted_fylkesnummer</th>\n",
       "      <th>arbeidssted_fylke</th>\n",
       "      <th>arbeidssted_kommunenummer</th>\n",
       "      <th>arbeidssted_kommune</th>\n",
       "      <th>arbeidssted_landkode</th>\n",
       "      <th>arbeidssted_land</th>\n",
       "      <th>isco_versjon</th>\n",
       "      <th>yrke_grovgruppe</th>\n",
       "      <th>yrkeskode</th>\n",
       "      <th>yrke</th>\n",
       "      <th>yrkesbetegnelse</th>\n",
       "      <th>virksomhet_organisasjonsnr</th>\n",
       "      <th>virksomhet_navn</th>\n",
       "      <th>antall_stillinger</th>\n",
       "      <th>stillingstittel</th>\n",
       "      <th>aarstall</th>\n",
       "    </tr>\n",
       "  </thead>\n",
       "  <tbody>\n",
       "    <tr>\n",
       "      <th>0</th>\n",
       "      <td>101200201000001</td>\n",
       "      <td>101</td>\n",
       "      <td>08.01.2002</td>\n",
       "      <td>17.01.2002</td>\n",
       "      <td>200201</td>\n",
       "      <td>1</td>\n",
       "      <td>Annonsert i media</td>\n",
       "      <td>6.0</td>\n",
       "      <td>Buskerud</td>\n",
       "      <td>625.0</td>\n",
       "      <td>Nedre Eiker</td>\n",
       "      <td>NO</td>\n",
       "      <td>Norge</td>\n",
       "      <td>ISCO-88</td>\n",
       "      <td>Ledere (2001-2011)</td>\n",
       "      <td>1223</td>\n",
       "      <td>Produksjonsdirektører innen bygge- og anleggsv...</td>\n",
       "      <td>Leder (bygg og anlegg)</td>\n",
       "      <td>NaN</td>\n",
       "      <td>NaN</td>\n",
       "      <td>2</td>\n",
       "      <td>Anleggsledere/formenn</td>\n",
       "      <td>2002</td>\n",
       "    </tr>\n",
       "    <tr>\n",
       "      <th>1</th>\n",
       "      <td>101200201000002</td>\n",
       "      <td>101</td>\n",
       "      <td>09.01.2002</td>\n",
       "      <td>18.01.2002</td>\n",
       "      <td>200201</td>\n",
       "      <td>1</td>\n",
       "      <td>Annonsert i media</td>\n",
       "      <td>1.0</td>\n",
       "      <td>Østfold</td>\n",
       "      <td>101.0</td>\n",
       "      <td>Halden</td>\n",
       "      <td>NO</td>\n",
       "      <td>Norge</td>\n",
       "      <td>ISCO-88</td>\n",
       "      <td>Helse, pleie og omsorg (2001-2011)</td>\n",
       "      <td>3226</td>\n",
       "      <td>Fysioterapeuter, ergoterapeuter o.l.</td>\n",
       "      <td>Fysioterapeut</td>\n",
       "      <td>974633965.0</td>\n",
       "      <td>SYKEHUSET ØSTFOLD</td>\n",
       "      <td>1</td>\n",
       "      <td>Fysioterapeut I</td>\n",
       "      <td>2002</td>\n",
       "    </tr>\n",
       "    <tr>\n",
       "      <th>2</th>\n",
       "      <td>101200205000004</td>\n",
       "      <td>101</td>\n",
       "      <td>23.05.2002</td>\n",
       "      <td>27.05.2002</td>\n",
       "      <td>200205</td>\n",
       "      <td>1</td>\n",
       "      <td>Annonsert i media</td>\n",
       "      <td>3.0</td>\n",
       "      <td>Oslo</td>\n",
       "      <td>301.0</td>\n",
       "      <td>Oslo</td>\n",
       "      <td>NO</td>\n",
       "      <td>Norge</td>\n",
       "      <td>ISCO-88</td>\n",
       "      <td>Meglere og konsulenter (2001-2011)</td>\n",
       "      <td>3415</td>\n",
       "      <td>Tekniske og kommersielle salgsrepresentanter</td>\n",
       "      <td>Teknisk salgsrepresentant</td>\n",
       "      <td>NaN</td>\n",
       "      <td>NaN</td>\n",
       "      <td>1</td>\n",
       "      <td>Salgskonsulent</td>\n",
       "      <td>2002</td>\n",
       "    </tr>\n",
       "    <tr>\n",
       "      <th>3</th>\n",
       "      <td>105200112000060</td>\n",
       "      <td>105</td>\n",
       "      <td>19.12.2001</td>\n",
       "      <td>20.12.2001</td>\n",
       "      <td>200201</td>\n",
       "      <td>1</td>\n",
       "      <td>Meldt til NAV lokalt</td>\n",
       "      <td>1.0</td>\n",
       "      <td>Østfold</td>\n",
       "      <td>104.0</td>\n",
       "      <td>Moss</td>\n",
       "      <td>NO</td>\n",
       "      <td>Norge</td>\n",
       "      <td>ISCO-88</td>\n",
       "      <td>Serviceyrker og annet arbeid (2001-2011)</td>\n",
       "      <td>9132</td>\n",
       "      <td>Rengjøringspersonale i bedrifter o.l.</td>\n",
       "      <td>Renholder</td>\n",
       "      <td>NaN</td>\n",
       "      <td>NaN</td>\n",
       "      <td>1</td>\n",
       "      <td>Renholder</td>\n",
       "      <td>2002</td>\n",
       "    </tr>\n",
       "    <tr>\n",
       "      <th>4</th>\n",
       "      <td>105200112000061</td>\n",
       "      <td>105</td>\n",
       "      <td>19.12.2001</td>\n",
       "      <td>29.12.2001</td>\n",
       "      <td>200201</td>\n",
       "      <td>1</td>\n",
       "      <td>Annonsert i media</td>\n",
       "      <td>1.0</td>\n",
       "      <td>Østfold</td>\n",
       "      <td>104.0</td>\n",
       "      <td>Moss</td>\n",
       "      <td>NO</td>\n",
       "      <td>Norge</td>\n",
       "      <td>ISCO-88</td>\n",
       "      <td>Helse, pleie og omsorg (2001-2011)</td>\n",
       "      <td>2224</td>\n",
       "      <td>Farmasøyter</td>\n",
       "      <td>Farmasøyt (cand.pharm.)</td>\n",
       "      <td>NaN</td>\n",
       "      <td>NaN</td>\n",
       "      <td>1</td>\n",
       "      <td>Daglig leder (bestyrer) (st.nr. 9501011)</td>\n",
       "      <td>2002</td>\n",
       "    </tr>\n",
       "  </tbody>\n",
       "</table>\n",
       "</div>"
      ],
      "text/plain": [
       "   stillingsnummer nav_enhet_kode registrert_dato sistepubl_dato  \\\n",
       "0  101200201000001            101      08.01.2002     17.01.2002   \n",
       "1  101200201000002            101      09.01.2002     18.01.2002   \n",
       "2  101200205000004            101      23.05.2002     27.05.2002   \n",
       "3  105200112000060            105      19.12.2001     20.12.2001   \n",
       "4  105200112000061            105      19.12.2001     29.12.2001   \n",
       "\n",
       "   statistikk_aar_mnd  offisiell_statistikk_flagg        stilling_kilde  \\\n",
       "0              200201                           1     Annonsert i media   \n",
       "1              200201                           1     Annonsert i media   \n",
       "2              200205                           1     Annonsert i media   \n",
       "3              200201                           1  Meldt til NAV lokalt   \n",
       "4              200201                           1     Annonsert i media   \n",
       "\n",
       "   arbeidssted_fylkesnummer arbeidssted_fylke  arbeidssted_kommunenummer  \\\n",
       "0                       6.0          Buskerud                      625.0   \n",
       "1                       1.0           Østfold                      101.0   \n",
       "2                       3.0              Oslo                      301.0   \n",
       "3                       1.0           Østfold                      104.0   \n",
       "4                       1.0           Østfold                      104.0   \n",
       "\n",
       "  arbeidssted_kommune arbeidssted_landkode arbeidssted_land isco_versjon  \\\n",
       "0         Nedre Eiker                   NO            Norge      ISCO-88   \n",
       "1              Halden                   NO            Norge      ISCO-88   \n",
       "2                Oslo                   NO            Norge      ISCO-88   \n",
       "3                Moss                   NO            Norge      ISCO-88   \n",
       "4                Moss                   NO            Norge      ISCO-88   \n",
       "\n",
       "                            yrke_grovgruppe  yrkeskode  \\\n",
       "0                        Ledere (2001-2011)       1223   \n",
       "1        Helse, pleie og omsorg (2001-2011)       3226   \n",
       "2        Meglere og konsulenter (2001-2011)       3415   \n",
       "3  Serviceyrker og annet arbeid (2001-2011)       9132   \n",
       "4        Helse, pleie og omsorg (2001-2011)       2224   \n",
       "\n",
       "                                                yrke  \\\n",
       "0  Produksjonsdirektører innen bygge- og anleggsv...   \n",
       "1               Fysioterapeuter, ergoterapeuter o.l.   \n",
       "2       Tekniske og kommersielle salgsrepresentanter   \n",
       "3              Rengjøringspersonale i bedrifter o.l.   \n",
       "4                                        Farmasøyter   \n",
       "\n",
       "             yrkesbetegnelse  virksomhet_organisasjonsnr    virksomhet_navn  \\\n",
       "0     Leder (bygg og anlegg)                         NaN                NaN   \n",
       "1              Fysioterapeut                 974633965.0  SYKEHUSET ØSTFOLD   \n",
       "2  Teknisk salgsrepresentant                         NaN                NaN   \n",
       "3                  Renholder                         NaN                NaN   \n",
       "4    Farmasøyt (cand.pharm.)                         NaN                NaN   \n",
       "\n",
       "   antall_stillinger                           stillingstittel  aarstall  \n",
       "0                  2                     Anleggsledere/formenn      2002  \n",
       "1                  1                           Fysioterapeut I      2002  \n",
       "2                  1                            Salgskonsulent      2002  \n",
       "3                  1                                 Renholder      2002  \n",
       "4                  1  Daglig leder (bestyrer) (st.nr. 9501011)      2002  "
      ]
     },
     "execution_count": 30,
     "metadata": {},
     "output_type": "execute_result"
    }
   ],
   "source": [
    "pd.set_option('display.max_columns', jobs.shape[1])\n",
    "jobs.head()"
   ]
  },
  {
   "cell_type": "markdown",
   "metadata": {},
   "source": [
    "Vi kan også skrive ut de mest vanlige numeriske oppsummeringene, selv om det i vårt tilfelle ikke er relevant for mange av kolonnene, fordi de er kategoriske eller strings:"
   ]
  },
  {
   "cell_type": "code",
   "execution_count": 33,
   "metadata": {},
   "outputs": [
    {
     "data": {
      "text/html": [
       "<div>\n",
       "<style scoped>\n",
       "    .dataframe tbody tr th:only-of-type {\n",
       "        vertical-align: middle;\n",
       "    }\n",
       "\n",
       "    .dataframe tbody tr th {\n",
       "        vertical-align: top;\n",
       "    }\n",
       "\n",
       "    .dataframe thead th {\n",
       "        text-align: right;\n",
       "    }\n",
       "</style>\n",
       "<table border=\"1\" class=\"dataframe\">\n",
       "  <thead>\n",
       "    <tr style=\"text-align: right;\">\n",
       "      <th></th>\n",
       "      <th>statistikk_aar_mnd</th>\n",
       "      <th>offisiell_statistikk_flagg</th>\n",
       "      <th>arbeidssted_fylkesnummer</th>\n",
       "      <th>arbeidssted_kommunenummer</th>\n",
       "      <th>yrkeskode</th>\n",
       "      <th>virksomhet_organisasjonsnr</th>\n",
       "      <th>antall_stillinger</th>\n",
       "      <th>aarstall</th>\n",
       "    </tr>\n",
       "  </thead>\n",
       "  <tbody>\n",
       "    <tr>\n",
       "      <th>count</th>\n",
       "      <td>2.662121e+06</td>\n",
       "      <td>2.662121e+06</td>\n",
       "      <td>2.628721e+06</td>\n",
       "      <td>2.628721e+06</td>\n",
       "      <td>2.662121e+06</td>\n",
       "      <td>2.132936e+06</td>\n",
       "      <td>2.662121e+06</td>\n",
       "      <td>2.662121e+06</td>\n",
       "    </tr>\n",
       "    <tr>\n",
       "      <th>mean</th>\n",
       "      <td>2.009425e+05</td>\n",
       "      <td>9.913723e-01</td>\n",
       "      <td>9.279508e+00</td>\n",
       "      <td>9.320196e+02</td>\n",
       "      <td>4.218345e+03</td>\n",
       "      <td>9.673685e+08</td>\n",
       "      <td>1.549483e+00</td>\n",
       "      <td>2.009365e+03</td>\n",
       "    </tr>\n",
       "    <tr>\n",
       "      <th>std</th>\n",
       "      <td>4.419866e+02</td>\n",
       "      <td>9.248391e-02</td>\n",
       "      <td>6.566508e+00</td>\n",
       "      <td>5.826097e+02</td>\n",
       "      <td>2.191745e+03</td>\n",
       "      <td>3.210878e+07</td>\n",
       "      <td>2.249433e+00</td>\n",
       "      <td>4.420114e+00</td>\n",
       "    </tr>\n",
       "    <tr>\n",
       "      <th>min</th>\n",
       "      <td>2.002010e+05</td>\n",
       "      <td>0.000000e+00</td>\n",
       "      <td>-1.000000e+00</td>\n",
       "      <td>-1.000000e+00</td>\n",
       "      <td>-1.000000e+00</td>\n",
       "      <td>8.115451e+08</td>\n",
       "      <td>1.000000e+00</td>\n",
       "      <td>2.002000e+03</td>\n",
       "    </tr>\n",
       "    <tr>\n",
       "      <th>25%</th>\n",
       "      <td>2.006050e+05</td>\n",
       "      <td>1.000000e+00</td>\n",
       "      <td>3.000000e+00</td>\n",
       "      <td>3.010000e+02</td>\n",
       "      <td>2.411000e+03</td>\n",
       "      <td>9.731524e+08</td>\n",
       "      <td>1.000000e+00</td>\n",
       "      <td>2.006000e+03</td>\n",
       "    </tr>\n",
       "    <tr>\n",
       "      <th>50%</th>\n",
       "      <td>2.009040e+05</td>\n",
       "      <td>1.000000e+00</td>\n",
       "      <td>1.000000e+01</td>\n",
       "      <td>1.001000e+03</td>\n",
       "      <td>3.433000e+03</td>\n",
       "      <td>9.746246e+08</td>\n",
       "      <td>1.000000e+00</td>\n",
       "      <td>2.009000e+03</td>\n",
       "    </tr>\n",
       "    <tr>\n",
       "      <th>75%</th>\n",
       "      <td>2.013050e+05</td>\n",
       "      <td>1.000000e+00</td>\n",
       "      <td>1.400000e+01</td>\n",
       "      <td>1.443000e+03</td>\n",
       "      <td>5.223000e+03</td>\n",
       "      <td>9.816601e+08</td>\n",
       "      <td>2.000000e+00</td>\n",
       "      <td>2.013000e+03</td>\n",
       "    </tr>\n",
       "    <tr>\n",
       "      <th>max</th>\n",
       "      <td>2.017120e+05</td>\n",
       "      <td>1.000000e+00</td>\n",
       "      <td>9.900000e+01</td>\n",
       "      <td>2.435000e+03</td>\n",
       "      <td>9.629000e+03</td>\n",
       "      <td>9.996700e+08</td>\n",
       "      <td>8.000000e+02</td>\n",
       "      <td>2.017000e+03</td>\n",
       "    </tr>\n",
       "  </tbody>\n",
       "</table>\n",
       "</div>"
      ],
      "text/plain": [
       "       statistikk_aar_mnd  offisiell_statistikk_flagg  \\\n",
       "count        2.662121e+06                2.662121e+06   \n",
       "mean         2.009425e+05                9.913723e-01   \n",
       "std          4.419866e+02                9.248391e-02   \n",
       "min          2.002010e+05                0.000000e+00   \n",
       "25%          2.006050e+05                1.000000e+00   \n",
       "50%          2.009040e+05                1.000000e+00   \n",
       "75%          2.013050e+05                1.000000e+00   \n",
       "max          2.017120e+05                1.000000e+00   \n",
       "\n",
       "       arbeidssted_fylkesnummer  arbeidssted_kommunenummer     yrkeskode  \\\n",
       "count              2.628721e+06               2.628721e+06  2.662121e+06   \n",
       "mean               9.279508e+00               9.320196e+02  4.218345e+03   \n",
       "std                6.566508e+00               5.826097e+02  2.191745e+03   \n",
       "min               -1.000000e+00              -1.000000e+00 -1.000000e+00   \n",
       "25%                3.000000e+00               3.010000e+02  2.411000e+03   \n",
       "50%                1.000000e+01               1.001000e+03  3.433000e+03   \n",
       "75%                1.400000e+01               1.443000e+03  5.223000e+03   \n",
       "max                9.900000e+01               2.435000e+03  9.629000e+03   \n",
       "\n",
       "       virksomhet_organisasjonsnr  antall_stillinger      aarstall  \n",
       "count                2.132936e+06       2.662121e+06  2.662121e+06  \n",
       "mean                 9.673685e+08       1.549483e+00  2.009365e+03  \n",
       "std                  3.210878e+07       2.249433e+00  4.420114e+00  \n",
       "min                  8.115451e+08       1.000000e+00  2.002000e+03  \n",
       "25%                  9.731524e+08       1.000000e+00  2.006000e+03  \n",
       "50%                  9.746246e+08       1.000000e+00  2.009000e+03  \n",
       "75%                  9.816601e+08       2.000000e+00  2.013000e+03  \n",
       "max                  9.996700e+08       8.000000e+02  2.017000e+03  "
      ]
     },
     "execution_count": 33,
     "metadata": {},
     "output_type": "execute_result"
    }
   ],
   "source": [
    "jobs.describe()"
   ]
  },
  {
   "cell_type": "markdown",
   "metadata": {},
   "source": [
    "Her ser vi for eksempel at over 99 % av statistikken er offisiell. Ellers er det noen oppsiktsvekkende tall for fylkes- og kommunenummer og yrkeskode - minimumsverdien er -1 og , som er en ugyldig verdi. Høyeste verdi for fylkesnummer er 99, som heller ikke svarer til noe fylke. La oss se litt nærmere på noen av disse radene, og sjekke hvor mange det er snakk om."
   ]
  },
  {
   "cell_type": "code",
   "execution_count": 34,
   "metadata": {},
   "outputs": [
    {
     "data": {
      "text/html": [
       "<div>\n",
       "<style scoped>\n",
       "    .dataframe tbody tr th:only-of-type {\n",
       "        vertical-align: middle;\n",
       "    }\n",
       "\n",
       "    .dataframe tbody tr th {\n",
       "        vertical-align: top;\n",
       "    }\n",
       "\n",
       "    .dataframe thead th {\n",
       "        text-align: right;\n",
       "    }\n",
       "</style>\n",
       "<table border=\"1\" class=\"dataframe\">\n",
       "  <thead>\n",
       "    <tr style=\"text-align: right;\">\n",
       "      <th></th>\n",
       "      <th>stillingsnummer</th>\n",
       "      <th>nav_enhet_kode</th>\n",
       "      <th>registrert_dato</th>\n",
       "      <th>sistepubl_dato</th>\n",
       "      <th>statistikk_aar_mnd</th>\n",
       "      <th>offisiell_statistikk_flagg</th>\n",
       "      <th>stilling_kilde</th>\n",
       "      <th>arbeidssted_fylkesnummer</th>\n",
       "      <th>arbeidssted_fylke</th>\n",
       "      <th>arbeidssted_kommunenummer</th>\n",
       "      <th>arbeidssted_kommune</th>\n",
       "      <th>arbeidssted_landkode</th>\n",
       "      <th>arbeidssted_land</th>\n",
       "      <th>isco_versjon</th>\n",
       "      <th>yrke_grovgruppe</th>\n",
       "      <th>yrkeskode</th>\n",
       "      <th>yrke</th>\n",
       "      <th>yrkesbetegnelse</th>\n",
       "      <th>virksomhet_organisasjonsnr</th>\n",
       "      <th>virksomhet_navn</th>\n",
       "      <th>antall_stillinger</th>\n",
       "      <th>stillingstittel</th>\n",
       "      <th>aarstall</th>\n",
       "    </tr>\n",
       "  </thead>\n",
       "  <tbody>\n",
       "    <tr>\n",
       "      <th>40</th>\n",
       "      <td>105200201000028</td>\n",
       "      <td>105</td>\n",
       "      <td>2002-01-08</td>\n",
       "      <td>2002-01-31</td>\n",
       "      <td>200201</td>\n",
       "      <td>1</td>\n",
       "      <td>Meldt til NAV lokalt</td>\n",
       "      <td>-1.0</td>\n",
       "      <td>ENT</td>\n",
       "      <td>-1.0</td>\n",
       "      <td>T</td>\n",
       "      <td>-1</td>\n",
       "      <td>UKJENT</td>\n",
       "      <td>ISCO-88</td>\n",
       "      <td>Reiseliv og transport (2001-2011)</td>\n",
       "      <td>8323</td>\n",
       "      <td>Lastebil- og vogntogførere</td>\n",
       "      <td>Lastebil- og vogntogfører</td>\n",
       "      <td>NaN</td>\n",
       "      <td>NaN</td>\n",
       "      <td>1</td>\n",
       "      <td>Sjåfør</td>\n",
       "      <td>2002</td>\n",
       "    </tr>\n",
       "    <tr>\n",
       "      <th>426</th>\n",
       "      <td>105200204000067</td>\n",
       "      <td>105</td>\n",
       "      <td>2002-04-15</td>\n",
       "      <td>2002-05-01</td>\n",
       "      <td>200204</td>\n",
       "      <td>1</td>\n",
       "      <td>Reg av arb.giver på nav.no</td>\n",
       "      <td>-1.0</td>\n",
       "      <td>ENT</td>\n",
       "      <td>-1.0</td>\n",
       "      <td>T</td>\n",
       "      <td>-1</td>\n",
       "      <td>UKJENT</td>\n",
       "      <td>ISCO-88</td>\n",
       "      <td>Meglere og konsulenter (2001-2011)</td>\n",
       "      <td>1239</td>\n",
       "      <td>Andre spesialdirektører</td>\n",
       "      <td>Leder (privat virksomhet)</td>\n",
       "      <td>NaN</td>\n",
       "      <td>NaN</td>\n",
       "      <td>1</td>\n",
       "      <td>Daglig leder</td>\n",
       "      <td>2002</td>\n",
       "    </tr>\n",
       "    <tr>\n",
       "      <th>427</th>\n",
       "      <td>105200204000068</td>\n",
       "      <td>105</td>\n",
       "      <td>2002-04-15</td>\n",
       "      <td>2002-04-30</td>\n",
       "      <td>200204</td>\n",
       "      <td>1</td>\n",
       "      <td>Reg av arb.giver på nav.no</td>\n",
       "      <td>-1.0</td>\n",
       "      <td>ENT</td>\n",
       "      <td>-1.0</td>\n",
       "      <td>T</td>\n",
       "      <td>-1</td>\n",
       "      <td>UKJENT</td>\n",
       "      <td>ISCO-88</td>\n",
       "      <td>Ingeniør- og ikt-fag (2001-2011)</td>\n",
       "      <td>2142</td>\n",
       "      <td>Sivilingeniører (bygg og anlegg)</td>\n",
       "      <td>Sivilingeniør (bygg og anlegg)</td>\n",
       "      <td>NaN</td>\n",
       "      <td>NaN</td>\n",
       "      <td>4</td>\n",
       "      <td>Sivilingeniører/ingeniører</td>\n",
       "      <td>2002</td>\n",
       "    </tr>\n",
       "    <tr>\n",
       "      <th>428</th>\n",
       "      <td>105200204000069</td>\n",
       "      <td>105</td>\n",
       "      <td>2002-04-15</td>\n",
       "      <td>2002-05-15</td>\n",
       "      <td>200204</td>\n",
       "      <td>1</td>\n",
       "      <td>Reg av arb.giver på nav.no</td>\n",
       "      <td>-1.0</td>\n",
       "      <td>ENT</td>\n",
       "      <td>-1.0</td>\n",
       "      <td>T</td>\n",
       "      <td>-1</td>\n",
       "      <td>UKJENT</td>\n",
       "      <td>ISCO-88</td>\n",
       "      <td>Akademiske yrker (2001-2011)</td>\n",
       "      <td>2541</td>\n",
       "      <td>Sosial- og siviløkonomer</td>\n",
       "      <td>Sosialøkonom</td>\n",
       "      <td>NaN</td>\n",
       "      <td>NaN</td>\n",
       "      <td>1</td>\n",
       "      <td>Økonomer/ markedsførere / selgere</td>\n",
       "      <td>2002</td>\n",
       "    </tr>\n",
       "    <tr>\n",
       "      <th>429</th>\n",
       "      <td>105200204000070</td>\n",
       "      <td>105</td>\n",
       "      <td>2002-04-15</td>\n",
       "      <td>2002-05-15</td>\n",
       "      <td>200204</td>\n",
       "      <td>1</td>\n",
       "      <td>Reg av arb.giver på nav.no</td>\n",
       "      <td>-1.0</td>\n",
       "      <td>ENT</td>\n",
       "      <td>-1.0</td>\n",
       "      <td>T</td>\n",
       "      <td>-1</td>\n",
       "      <td>UKJENT</td>\n",
       "      <td>ISCO-88</td>\n",
       "      <td>Ingeniør- og ikt-fag (2001-2011)</td>\n",
       "      <td>2142</td>\n",
       "      <td>Sivilingeniører (bygg og anlegg)</td>\n",
       "      <td>Sivilingeniør (bygg og anlegg)</td>\n",
       "      <td>NaN</td>\n",
       "      <td>NaN</td>\n",
       "      <td>10</td>\n",
       "      <td>Sivilingeniører / ingeniører</td>\n",
       "      <td>2002</td>\n",
       "    </tr>\n",
       "  </tbody>\n",
       "</table>\n",
       "</div>"
      ],
      "text/plain": [
       "     stillingsnummer nav_enhet_kode registrert_dato sistepubl_dato  \\\n",
       "40   105200201000028            105      2002-01-08     2002-01-31   \n",
       "426  105200204000067            105      2002-04-15     2002-05-01   \n",
       "427  105200204000068            105      2002-04-15     2002-04-30   \n",
       "428  105200204000069            105      2002-04-15     2002-05-15   \n",
       "429  105200204000070            105      2002-04-15     2002-05-15   \n",
       "\n",
       "     statistikk_aar_mnd  offisiell_statistikk_flagg  \\\n",
       "40               200201                           1   \n",
       "426              200204                           1   \n",
       "427              200204                           1   \n",
       "428              200204                           1   \n",
       "429              200204                           1   \n",
       "\n",
       "                 stilling_kilde  arbeidssted_fylkesnummer arbeidssted_fylke  \\\n",
       "40         Meldt til NAV lokalt                      -1.0               ENT   \n",
       "426  Reg av arb.giver på nav.no                      -1.0               ENT   \n",
       "427  Reg av arb.giver på nav.no                      -1.0               ENT   \n",
       "428  Reg av arb.giver på nav.no                      -1.0               ENT   \n",
       "429  Reg av arb.giver på nav.no                      -1.0               ENT   \n",
       "\n",
       "     arbeidssted_kommunenummer arbeidssted_kommune arbeidssted_landkode  \\\n",
       "40                        -1.0                   T                   -1   \n",
       "426                       -1.0                   T                   -1   \n",
       "427                       -1.0                   T                   -1   \n",
       "428                       -1.0                   T                   -1   \n",
       "429                       -1.0                   T                   -1   \n",
       "\n",
       "    arbeidssted_land isco_versjon                     yrke_grovgruppe  \\\n",
       "40            UKJENT      ISCO-88   Reiseliv og transport (2001-2011)   \n",
       "426           UKJENT      ISCO-88  Meglere og konsulenter (2001-2011)   \n",
       "427           UKJENT      ISCO-88    Ingeniør- og ikt-fag (2001-2011)   \n",
       "428           UKJENT      ISCO-88        Akademiske yrker (2001-2011)   \n",
       "429           UKJENT      ISCO-88    Ingeniør- og ikt-fag (2001-2011)   \n",
       "\n",
       "     yrkeskode                              yrke  \\\n",
       "40        8323        Lastebil- og vogntogførere   \n",
       "426       1239           Andre spesialdirektører   \n",
       "427       2142  Sivilingeniører (bygg og anlegg)   \n",
       "428       2541          Sosial- og siviløkonomer   \n",
       "429       2142  Sivilingeniører (bygg og anlegg)   \n",
       "\n",
       "                    yrkesbetegnelse  virksomhet_organisasjonsnr  \\\n",
       "40        Lastebil- og vogntogfører                         NaN   \n",
       "426       Leder (privat virksomhet)                         NaN   \n",
       "427  Sivilingeniør (bygg og anlegg)                         NaN   \n",
       "428                    Sosialøkonom                         NaN   \n",
       "429  Sivilingeniør (bygg og anlegg)                         NaN   \n",
       "\n",
       "    virksomhet_navn  antall_stillinger                    stillingstittel  \\\n",
       "40              NaN                  1                             Sjåfør   \n",
       "426             NaN                  1                       Daglig leder   \n",
       "427             NaN                  4         Sivilingeniører/ingeniører   \n",
       "428             NaN                  1  Økonomer/ markedsførere / selgere   \n",
       "429             NaN                 10       Sivilingeniører / ingeniører   \n",
       "\n",
       "     aarstall  \n",
       "40       2002  \n",
       "426      2002  \n",
       "427      2002  \n",
       "428      2002  \n",
       "429      2002  "
      ]
     },
     "execution_count": 34,
     "metadata": {},
     "output_type": "execute_result"
    },
    {
     "data": {
      "text/plain": [
       "(1365, 23)"
      ]
     },
     "execution_count": 34,
     "metadata": {},
     "output_type": "execute_result"
    }
   ],
   "source": [
    "jobs[jobs.arbeidssted_fylkesnummer < 1].head()\n",
    "jobs[jobs.arbeidssted_fylkesnummer < 1].shape"
   ]
  },
  {
   "cell_type": "markdown",
   "metadata": {},
   "source": [
    "Her er det mye informasjon som mangler, til og med land er ukjent. La oss sette verdier vi vet er ugyldige til NaN:"
   ]
  },
  {
   "cell_type": "code",
   "execution_count": 35,
   "metadata": {},
   "outputs": [
    {
     "ename": "SyntaxError",
     "evalue": "invalid syntax (<ipython-input-35-fdf42282316c>, line 8)",
     "output_type": "error",
     "traceback": [
      "\u001b[0;36m  File \u001b[0;32m\"<ipython-input-35-fdf42282316c>\"\u001b[0;36m, line \u001b[0;32m8\u001b[0m\n\u001b[0;31m    jobs = jobs.replace({'arbeidssted_fylkesnummer': <1}, value=np.nan)\u001b[0m\n\u001b[0m                                                     ^\u001b[0m\n\u001b[0;31mSyntaxError\u001b[0m\u001b[0;31m:\u001b[0m invalid syntax\n"
     ]
    }
   ],
   "source": [
    "ranges = {'arbeidssted_fylkesnummer': range(1, 23), 'arbeidssted_kommunenummer': range(101, 2400), 'yrkeskode': range(1, 10000)}\n",
    "\n",
    "for column in ranges:\n",
    "    a = -jobs[column].isin(ranges[column])  # All values outside the range is True (- negates)\n",
    "    jobs.loc[a, column] = np.nan\n"
   ]
  },
  {
   "cell_type": "markdown",
   "metadata": {},
   "source": [
    "Jeg vet ikke noe om yrkeskodene, men har googlet meg frem til litt info: de skal være fire- eller syvsifret og kan begynne med null, men kan ikke være bare nuller ([SSB](https://www.ssb.no/a/yrke/) og [skatteetaten](https://www.skatteetaten.no/bedrift-og-organisasjon/arbeidsgiver/a-meldingen/veiledning/arbeidsforholdet/opplysninger-om-arbeidsforholdet/yrkeskode/)). I oppsummeringen fra describe-funksjonen ser vi at det i filene kun er brukt den firesifrede koden."
   ]
  },
  {
   "cell_type": "markdown",
   "metadata": {
    "scrolled": false
   },
   "source": [
    "Vi kan også ta en titt på hvilke typer de andre kolonnene har blitt, og om vi eventuelt bør endre på noe mer."
   ]
  },
  {
   "cell_type": "code",
   "execution_count": 31,
   "metadata": {},
   "outputs": [
    {
     "data": {
      "text/plain": [
       "stillingsnummer                 object\n",
       "nav_enhet_kode                category\n",
       "registrert_dato                 object\n",
       "sistepubl_dato                  object\n",
       "statistikk_aar_mnd               int64\n",
       "offisiell_statistikk_flagg       int64\n",
       "stilling_kilde                  object\n",
       "arbeidssted_fylkesnummer       float64\n",
       "arbeidssted_fylke               object\n",
       "arbeidssted_kommunenummer      float64\n",
       "arbeidssted_kommune             object\n",
       "arbeidssted_landkode            object\n",
       "arbeidssted_land                object\n",
       "isco_versjon                    object\n",
       "yrke_grovgruppe                 object\n",
       "yrkeskode                        int64\n",
       "yrke                            object\n",
       "yrkesbetegnelse                 object\n",
       "virksomhet_organisasjonsnr     float64\n",
       "virksomhet_navn                 object\n",
       "antall_stillinger                int64\n",
       "stillingstittel                 object\n",
       "aarstall                         int64\n",
       "dtype: object"
      ]
     },
     "execution_count": 31,
     "metadata": {},
     "output_type": "execute_result"
    }
   ],
   "source": [
    "jobs.dtypes"
   ]
  },
  {
   "cell_type": "markdown",
   "metadata": {},
   "source": [
    "Fra utskriften over ser vi at datoene er lagret som tekst. Disse kan vi konvertere til datoformat. Pandas funksjon to_datetime virker bare på endimensjonal input, så jeg bruker apply for å kunne gjøre det på begge dato-kolonnene samtidig. Datoene blir nå printet ut i yyyy-mm-dd format."
   ]
  },
  {
   "cell_type": "code",
   "execution_count": 32,
   "metadata": {},
   "outputs": [
    {
     "data": {
      "text/html": [
       "<div>\n",
       "<style scoped>\n",
       "    .dataframe tbody tr th:only-of-type {\n",
       "        vertical-align: middle;\n",
       "    }\n",
       "\n",
       "    .dataframe tbody tr th {\n",
       "        vertical-align: top;\n",
       "    }\n",
       "\n",
       "    .dataframe thead th {\n",
       "        text-align: right;\n",
       "    }\n",
       "</style>\n",
       "<table border=\"1\" class=\"dataframe\">\n",
       "  <thead>\n",
       "    <tr style=\"text-align: right;\">\n",
       "      <th></th>\n",
       "      <th>registrert_dato</th>\n",
       "      <th>sistepubl_dato</th>\n",
       "    </tr>\n",
       "  </thead>\n",
       "  <tbody>\n",
       "    <tr>\n",
       "      <th>0</th>\n",
       "      <td>2002-01-08</td>\n",
       "      <td>2002-01-17</td>\n",
       "    </tr>\n",
       "    <tr>\n",
       "      <th>1</th>\n",
       "      <td>2002-01-09</td>\n",
       "      <td>2002-01-18</td>\n",
       "    </tr>\n",
       "    <tr>\n",
       "      <th>2</th>\n",
       "      <td>2002-05-23</td>\n",
       "      <td>2002-05-27</td>\n",
       "    </tr>\n",
       "    <tr>\n",
       "      <th>3</th>\n",
       "      <td>2001-12-19</td>\n",
       "      <td>2001-12-20</td>\n",
       "    </tr>\n",
       "    <tr>\n",
       "      <th>4</th>\n",
       "      <td>2001-12-19</td>\n",
       "      <td>2001-12-29</td>\n",
       "    </tr>\n",
       "  </tbody>\n",
       "</table>\n",
       "</div>"
      ],
      "text/plain": [
       "  registrert_dato sistepubl_dato\n",
       "0      2002-01-08     2002-01-17\n",
       "1      2002-01-09     2002-01-18\n",
       "2      2002-05-23     2002-05-27\n",
       "3      2001-12-19     2001-12-20\n",
       "4      2001-12-19     2001-12-29"
      ]
     },
     "execution_count": 32,
     "metadata": {},
     "output_type": "execute_result"
    }
   ],
   "source": [
    "jobs.iloc[:, 2:4] = jobs.iloc[:, 2:4].apply(pd.to_datetime, errors='coerce', format='%d.%m.%Y')\n",
    "jobs.iloc[:, 2:4].head()"
   ]
  },
  {
   "cell_type": "markdown",
   "metadata": {},
   "source": [
    "Det er en del feilpunching i kolonnen 'sistepubl_dato' som gjør at vi får feilmeldinger hvis vi prøver å konvertere uten å bruke errors-argumentet. 'Coerce' vil si at alle felter som genererer feilmeldinger blir gjort om til 'NaT' - Not a Time. "
   ]
  },
  {
   "cell_type": "markdown",
   "metadata": {},
   "source": [
    "De andre feltene ser ut til å ha riktig typer. La oss derfor undersøke hvor mye data som mangler i hver kolonne. Denne funksjonen for å oppsummere antall missing i en dataframe har jeg hentet [herfra](https://github.com/WillKoehrsen/machine-learning-project-walkthrough/blob/master/Machine%20Learning%20Project%20Part%201.ipynb). Det prosjektet er vel verdt å sjekke ut!"
   ]
  },
  {
   "cell_type": "code",
   "execution_count": null,
   "metadata": {},
   "outputs": [],
   "source": [
    "def missing_values_table(df):\n",
    "        # Total missing values\n",
    "        mis_val = df.isnull().sum()\n",
    "        \n",
    "        # Percentage of missing values\n",
    "        mis_val_percent = 100 * mis_val / len(df)\n",
    "        \n",
    "        # Make a table with the results\n",
    "        mis_val_table = pd.concat([mis_val, mis_val_percent], axis=1)\n",
    "        \n",
    "        # Rename the columns\n",
    "        mis_val_table_ren_columns = mis_val_table.rename(\n",
    "        columns = {0 : 'Missing Values', 1 : '% of Total Values'})\n",
    "        \n",
    "        # Sort the table by percentage of missing descending\n",
    "        mis_val_table_ren_columns = mis_val_table_ren_columns[\n",
    "            mis_val_table_ren_columns.iloc[:,1] != 0].sort_values(\n",
    "        '% of Total Values', ascending=False).round(1)\n",
    "        \n",
    "        # Print some summary information\n",
    "        print (\"Your selected dataframe has \" + str(df.shape[1]) + \" columns.\\n\"      \n",
    "            \"There are \" + str(mis_val_table_ren_columns.shape[0]) +\n",
    "              \" columns that have missing values.\")\n",
    "        \n",
    "        # Return the dataframe with missing information\n",
    "        return mis_val_table_ren_columns\n",
    "\n",
    "missing_values_table(jobs)"
   ]
  },
  {
   "cell_type": "markdown",
   "metadata": {},
   "source": [
    "Kolonnene som mangler mest data er virksomhet_organisasjonsnr og virksomhet_navn, med i underkant av 20% missing. Resten av kolonnene mangler lite data, og 20% er heller ikke veldig mye. Det er veldig bra! La oss gå videre med å utforske datasettet litt nøyere i neste notebook."
   ]
  },
  {
   "cell_type": "markdown",
   "metadata": {},
   "source": []
  }
 ],
 "metadata": {
  "kernelspec": {
   "display_name": "Python 3",
   "language": "python",
   "name": "python3"
  },
  "language_info": {
   "codemirror_mode": {
    "name": "ipython",
    "version": 3
   },
   "file_extension": ".py",
   "mimetype": "text/x-python",
   "name": "python",
   "nbconvert_exporter": "python",
   "pygments_lexer": "ipython3",
   "version": "3.6.5"
  }
 },
 "nbformat": 4,
 "nbformat_minor": 2
}
