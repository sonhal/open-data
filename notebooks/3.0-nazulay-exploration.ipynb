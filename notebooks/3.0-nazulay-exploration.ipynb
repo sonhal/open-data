{
 "cells": [
  {
   "cell_type": "code",
   "execution_count": null,
   "metadata": {},
   "outputs": [],
   "source": [
    "import pandas as pd\n",
    "import matplotlib.pyplot as plt \n",
    "import seaborn as sns"
   ]
  },
  {
   "cell_type": "code",
   "execution_count": null,
   "metadata": {},
   "outputs": [],
   "source": [
    "#import jobs på noe vis..\n",
    "kilde = jobs['stilling_kilde'].value_counts()\n",
    "kilde = list(kilde[kilde.values > 10].index)\n",
    "\n",
    "# Plot each building\n",
    "for kat in kilde:\n",
    "    # Select the building type\n",
    "    subset = jobs[jobs['stilling_kilde'] == kat]\n",
    "    \n",
    "    # Density plot of Energy Star scores\n",
    "    sns.kdeplot(subset['statistikk_aar_mnd'],\n",
    "               label = kat, shade = False, alpha = 0.8);\n"
   ]
  }
 ],
 "metadata": {
  "kernelspec": {
   "display_name": "Python 3",
   "language": "python",
   "name": "python3"
  },
  "language_info": {
   "codemirror_mode": {
    "name": "ipython",
    "version": 3
   },
   "file_extension": ".py",
   "mimetype": "text/x-python",
   "name": "python",
   "nbconvert_exporter": "python",
   "pygments_lexer": "ipython3",
   "version": "3.6.5"
  }
 },
 "nbformat": 4,
 "nbformat_minor": 2
}
