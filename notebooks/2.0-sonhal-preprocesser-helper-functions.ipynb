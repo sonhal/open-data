{
 "cells": [
  {
   "cell_type": "code",
   "execution_count": 1,
   "metadata": {},
   "outputs": [],
   "source": [
    "import pandas as pd\n",
    "from src.data import make_preprocessed_ads_data"
   ]
  },
  {
   "cell_type": "code",
   "execution_count": 2,
   "metadata": {},
   "outputs": [
    {
     "name": "stdout",
     "output_type": "stream",
     "text": [
      "/Users/H153869/dev/nav_ds/nav_åpne_data/notebooks/../data/raw/work_ad/work_ad_dataset-2008.csv\n",
      "/Users/H153869/dev/nav_ds/nav_åpne_data/notebooks/../data/raw/work_ad/work_ad_dataset-2009.csv\n",
      "/Users/H153869/dev/nav_ds/nav_åpne_data/notebooks/../data/raw/work_ad/test.csv\n",
      "/Users/H153869/dev/nav_ds/nav_åpne_data/notebooks/../data/raw/work_ad/work_ad_dataset-2007.csv\n",
      "/Users/H153869/dev/nav_ds/nav_åpne_data/notebooks/../data/raw/work_ad/work_ad_dataset-2013.csv\n",
      "/Users/H153869/dev/nav_ds/nav_åpne_data/notebooks/../data/raw/work_ad/work_ad_dataset-2012.csv\n",
      "/Users/H153869/dev/nav_ds/nav_åpne_data/notebooks/../data/raw/work_ad/work_ad_dataset-2006.csv\n",
      "/Users/H153869/dev/nav_ds/nav_åpne_data/notebooks/../data/raw/work_ad/work_ad_dataset-2010.csv\n",
      "/Users/H153869/dev/nav_ds/nav_åpne_data/notebooks/../data/raw/work_ad/work_ad_dataset-2004.csv\n",
      "/Users/H153869/dev/nav_ds/nav_åpne_data/notebooks/../data/raw/work_ad/work_ad_dataset-2005.csv\n"
     ]
    },
    {
     "name": "stderr",
     "output_type": "stream",
     "text": [
      "/anaconda3/lib/python3.6/site-packages/IPython/core/interactiveshell.py:2903: DtypeWarning: Columns (0,1) have mixed types. Specify dtype option on import or set low_memory=False.\n",
      "  if self.run_code(code, result):\n"
     ]
    },
    {
     "name": "stdout",
     "output_type": "stream",
     "text": [
      "/Users/H153869/dev/nav_ds/nav_åpne_data/notebooks/../data/raw/work_ad/work_ad_dataset-2011.csv\n",
      "/Users/H153869/dev/nav_ds/nav_åpne_data/notebooks/../data/raw/work_ad/work_ad_dataset-2015.csv\n",
      "/Users/H153869/dev/nav_ds/nav_åpne_data/notebooks/../data/raw/work_ad/work_ad_dataset-2014.csv\n",
      "/Users/H153869/dev/nav_ds/nav_åpne_data/notebooks/../data/raw/work_ad/2016test.csv\n",
      "/Users/H153869/dev/nav_ds/nav_åpne_data/notebooks/../data/raw/work_ad/work_ad_dataset-2002.csv\n",
      "/Users/H153869/dev/nav_ds/nav_åpne_data/notebooks/../data/raw/work_ad/work_ad_dataset-2016.csv\n",
      "/Users/H153869/dev/nav_ds/nav_åpne_data/notebooks/../data/raw/work_ad/work_ad_dataset-2017.csv\n",
      "/Users/H153869/dev/nav_ds/nav_åpne_data/notebooks/../data/raw/work_ad/work_ad_dataset-2003.csv\n"
     ]
    }
   ],
   "source": [
    "df = make_preprocessed_ads_data.get_work_ad_data_frame(\"../data/raw/work_ad/\")"
   ]
  },
  {
   "cell_type": "code",
   "execution_count": 3,
   "metadata": {},
   "outputs": [
    {
     "data": {
      "text/plain": [
       "PosixPath('/Users/H153869/dev/nav_ds/nav_åpne_data/notebooks/../data/processed/pickle/all_work_ads.pkl')"
      ]
     },
     "execution_count": 3,
     "metadata": {},
     "output_type": "execute_result"
    }
   ],
   "source": [
    "make_preprocessed_ads_data.save_dataframe(df, \"../data/processed/pickle/all_work_ads.pkl\")"
   ]
  },
  {
   "cell_type": "code",
   "execution_count": 4,
   "metadata": {},
   "outputs": [
    {
     "data": {
      "text/html": [
       "<div>\n",
       "<style scoped>\n",
       "    .dataframe tbody tr th:only-of-type {\n",
       "        vertical-align: middle;\n",
       "    }\n",
       "\n",
       "    .dataframe tbody tr th {\n",
       "        vertical-align: top;\n",
       "    }\n",
       "\n",
       "    .dataframe thead th {\n",
       "        text-align: right;\n",
       "    }\n",
       "</style>\n",
       "<table border=\"1\" class=\"dataframe\">\n",
       "  <thead>\n",
       "    <tr style=\"text-align: right;\">\n",
       "      <th></th>\n",
       "      <th>antall_stillinger</th>\n",
       "      <th>arbeidssted_fylke</th>\n",
       "      <th>arbeidssted_fylkesnummer</th>\n",
       "      <th>arbeidssted_kommune</th>\n",
       "      <th>arbeidssted_kommunenummer</th>\n",
       "      <th>arbeidssted_land</th>\n",
       "      <th>arbeidssted_landkode</th>\n",
       "      <th>isco_versjon</th>\n",
       "      <th>nav_enhet_kode</th>\n",
       "      <th>offisiell_statistikk_flagg</th>\n",
       "      <th>...</th>\n",
       "      <th>sistepubl_dato</th>\n",
       "      <th>statistikk_aar_mnd</th>\n",
       "      <th>stilling_kilde</th>\n",
       "      <th>stillingstittel</th>\n",
       "      <th>virksomhet_navn</th>\n",
       "      <th>virksomhet_organisasjonsnr</th>\n",
       "      <th>yrke</th>\n",
       "      <th>yrke_grovgruppe</th>\n",
       "      <th>yrkesbetegnelse</th>\n",
       "      <th>yrkeskode</th>\n",
       "    </tr>\n",
       "    <tr>\n",
       "      <th>stillingsnummer</th>\n",
       "      <th></th>\n",
       "      <th></th>\n",
       "      <th></th>\n",
       "      <th></th>\n",
       "      <th></th>\n",
       "      <th></th>\n",
       "      <th></th>\n",
       "      <th></th>\n",
       "      <th></th>\n",
       "      <th></th>\n",
       "      <th></th>\n",
       "      <th></th>\n",
       "      <th></th>\n",
       "      <th></th>\n",
       "      <th></th>\n",
       "      <th></th>\n",
       "      <th></th>\n",
       "      <th></th>\n",
       "      <th></th>\n",
       "      <th></th>\n",
       "      <th></th>\n",
       "    </tr>\n",
       "  </thead>\n",
       "  <tbody>\n",
       "    <tr>\n",
       "      <th>2041200312000001</th>\n",
       "      <td>1</td>\n",
       "      <td>Finnmark</td>\n",
       "      <td>20.0</td>\n",
       "      <td>Guovdageaidnu - Kautokeino</td>\n",
       "      <td>2011.0</td>\n",
       "      <td>Norge</td>\n",
       "      <td>NO</td>\n",
       "      <td>ISCO-88</td>\n",
       "      <td>2041</td>\n",
       "      <td>1</td>\n",
       "      <td>...</td>\n",
       "      <td>15.12.2003</td>\n",
       "      <td>200312</td>\n",
       "      <td>Annonsert i media</td>\n",
       "      <td>Reiselivs og kulturkoordinator</td>\n",
       "      <td>KAUTOKEINO KOMMUNE TEKNISKE</td>\n",
       "      <td>974582120.0</td>\n",
       "      <td>Reisebyråmedarbeidere o.l.</td>\n",
       "      <td>Reiseliv og transport (2001-2011)</td>\n",
       "      <td>Turistinformasjonmedarbeider</td>\n",
       "      <td>4221</td>\n",
       "    </tr>\n",
       "    <tr>\n",
       "      <th>2041200312000002</th>\n",
       "      <td>1</td>\n",
       "      <td>Finnmark</td>\n",
       "      <td>20.0</td>\n",
       "      <td>Guovdageaidnu - Kautokeino</td>\n",
       "      <td>2011.0</td>\n",
       "      <td>Norge</td>\n",
       "      <td>NO</td>\n",
       "      <td>ISCO-88</td>\n",
       "      <td>2041</td>\n",
       "      <td>1</td>\n",
       "      <td>...</td>\n",
       "      <td>17.12.2003</td>\n",
       "      <td>200312</td>\n",
       "      <td>Annonsert i media</td>\n",
       "      <td>Høgskoledirektør</td>\n",
       "      <td>SAMISK HØGSKOLE</td>\n",
       "      <td>974703645.0</td>\n",
       "      <td>Administrerende direktører</td>\n",
       "      <td>Ledere (2001-2011)</td>\n",
       "      <td>Administrerende direktør</td>\n",
       "      <td>1210</td>\n",
       "    </tr>\n",
       "    <tr>\n",
       "      <th>2041200312000003</th>\n",
       "      <td>1</td>\n",
       "      <td>Finnmark</td>\n",
       "      <td>20.0</td>\n",
       "      <td>Guovdageaidnu - Kautokeino</td>\n",
       "      <td>2011.0</td>\n",
       "      <td>Norge</td>\n",
       "      <td>NO</td>\n",
       "      <td>ISCO-88</td>\n",
       "      <td>2041</td>\n",
       "      <td>1</td>\n",
       "      <td>...</td>\n",
       "      <td>10.12.2003</td>\n",
       "      <td>200312</td>\n",
       "      <td>Annonsert i media</td>\n",
       "      <td>Medarbeider</td>\n",
       "      <td>VENOR AS</td>\n",
       "      <td>972007420.0</td>\n",
       "      <td>Butikkmedarbeidere o.l.</td>\n",
       "      <td>Butikk- og salgsarbeid (2001-2011)</td>\n",
       "      <td>Butikkmedarbeider</td>\n",
       "      <td>5221</td>\n",
       "    </tr>\n",
       "    <tr>\n",
       "      <th>2041200312000004</th>\n",
       "      <td>1</td>\n",
       "      <td>Finnmark</td>\n",
       "      <td>20.0</td>\n",
       "      <td>Guovdageaidnu - Kautokeino</td>\n",
       "      <td>2011.0</td>\n",
       "      <td>Norge</td>\n",
       "      <td>NO</td>\n",
       "      <td>ISCO-88</td>\n",
       "      <td>2041</td>\n",
       "      <td>1</td>\n",
       "      <td>...</td>\n",
       "      <td>12.12.2003</td>\n",
       "      <td>200312</td>\n",
       "      <td>Annonsert i media</td>\n",
       "      <td>Barnehagestyrer</td>\n",
       "      <td>SKOLEKONTORET I KAUTOKEINO</td>\n",
       "      <td>975294420.0</td>\n",
       "      <td>Førskolelærere</td>\n",
       "      <td>Undervisning (2001-2011)</td>\n",
       "      <td>Førskolelærer</td>\n",
       "      <td>3320</td>\n",
       "    </tr>\n",
       "    <tr>\n",
       "      <th>2041200312000005</th>\n",
       "      <td>1</td>\n",
       "      <td>Finnmark</td>\n",
       "      <td>20.0</td>\n",
       "      <td>Guovdageaidnu - Kautokeino</td>\n",
       "      <td>2011.0</td>\n",
       "      <td>Norge</td>\n",
       "      <td>NO</td>\n",
       "      <td>ISCO-88</td>\n",
       "      <td>2041</td>\n",
       "      <td>1</td>\n",
       "      <td>...</td>\n",
       "      <td>12.12.2003</td>\n",
       "      <td>200312</td>\n",
       "      <td>Annonsert i media</td>\n",
       "      <td>Pedagogisk leder</td>\n",
       "      <td>SKOLEKONTORET I KAUTOKEINO</td>\n",
       "      <td>975294420.0</td>\n",
       "      <td>Førskolelærere</td>\n",
       "      <td>Undervisning (2001-2011)</td>\n",
       "      <td>Førskolelærer</td>\n",
       "      <td>3320</td>\n",
       "    </tr>\n",
       "  </tbody>\n",
       "</table>\n",
       "<p>5 rows × 21 columns</p>\n",
       "</div>"
      ],
      "text/plain": [
       "                  antall_stillinger arbeidssted_fylke  \\\n",
       "stillingsnummer                                         \n",
       "2041200312000001                  1          Finnmark   \n",
       "2041200312000002                  1          Finnmark   \n",
       "2041200312000003                  1          Finnmark   \n",
       "2041200312000004                  1          Finnmark   \n",
       "2041200312000005                  1          Finnmark   \n",
       "\n",
       "                  arbeidssted_fylkesnummer         arbeidssted_kommune  \\\n",
       "stillingsnummer                                                          \n",
       "2041200312000001                      20.0  Guovdageaidnu - Kautokeino   \n",
       "2041200312000002                      20.0  Guovdageaidnu - Kautokeino   \n",
       "2041200312000003                      20.0  Guovdageaidnu - Kautokeino   \n",
       "2041200312000004                      20.0  Guovdageaidnu - Kautokeino   \n",
       "2041200312000005                      20.0  Guovdageaidnu - Kautokeino   \n",
       "\n",
       "                  arbeidssted_kommunenummer arbeidssted_land  \\\n",
       "stillingsnummer                                                \n",
       "2041200312000001                     2011.0            Norge   \n",
       "2041200312000002                     2011.0            Norge   \n",
       "2041200312000003                     2011.0            Norge   \n",
       "2041200312000004                     2011.0            Norge   \n",
       "2041200312000005                     2011.0            Norge   \n",
       "\n",
       "                 arbeidssted_landkode isco_versjon nav_enhet_kode  \\\n",
       "stillingsnummer                                                     \n",
       "2041200312000001                   NO      ISCO-88           2041   \n",
       "2041200312000002                   NO      ISCO-88           2041   \n",
       "2041200312000003                   NO      ISCO-88           2041   \n",
       "2041200312000004                   NO      ISCO-88           2041   \n",
       "2041200312000005                   NO      ISCO-88           2041   \n",
       "\n",
       "                  offisiell_statistikk_flagg    ...    sistepubl_dato  \\\n",
       "stillingsnummer                                 ...                     \n",
       "2041200312000001                           1    ...        15.12.2003   \n",
       "2041200312000002                           1    ...        17.12.2003   \n",
       "2041200312000003                           1    ...        10.12.2003   \n",
       "2041200312000004                           1    ...        12.12.2003   \n",
       "2041200312000005                           1    ...        12.12.2003   \n",
       "\n",
       "                 statistikk_aar_mnd     stilling_kilde  \\\n",
       "stillingsnummer                                          \n",
       "2041200312000001             200312  Annonsert i media   \n",
       "2041200312000002             200312  Annonsert i media   \n",
       "2041200312000003             200312  Annonsert i media   \n",
       "2041200312000004             200312  Annonsert i media   \n",
       "2041200312000005             200312  Annonsert i media   \n",
       "\n",
       "                                 stillingstittel              virksomhet_navn  \\\n",
       "stillingsnummer                                                                 \n",
       "2041200312000001  Reiselivs og kulturkoordinator  KAUTOKEINO KOMMUNE TEKNISKE   \n",
       "2041200312000002                Høgskoledirektør              SAMISK HØGSKOLE   \n",
       "2041200312000003                     Medarbeider                     VENOR AS   \n",
       "2041200312000004                 Barnehagestyrer   SKOLEKONTORET I KAUTOKEINO   \n",
       "2041200312000005                Pedagogisk leder   SKOLEKONTORET I KAUTOKEINO   \n",
       "\n",
       "                 virksomhet_organisasjonsnr                        yrke  \\\n",
       "stillingsnummer                                                           \n",
       "2041200312000001                974582120.0  Reisebyråmedarbeidere o.l.   \n",
       "2041200312000002                974703645.0  Administrerende direktører   \n",
       "2041200312000003                972007420.0     Butikkmedarbeidere o.l.   \n",
       "2041200312000004                975294420.0              Førskolelærere   \n",
       "2041200312000005                975294420.0              Førskolelærere   \n",
       "\n",
       "                                     yrke_grovgruppe  \\\n",
       "stillingsnummer                                        \n",
       "2041200312000001   Reiseliv og transport (2001-2011)   \n",
       "2041200312000002                  Ledere (2001-2011)   \n",
       "2041200312000003  Butikk- og salgsarbeid (2001-2011)   \n",
       "2041200312000004            Undervisning (2001-2011)   \n",
       "2041200312000005            Undervisning (2001-2011)   \n",
       "\n",
       "                               yrkesbetegnelse yrkeskode  \n",
       "stillingsnummer                                           \n",
       "2041200312000001  Turistinformasjonmedarbeider      4221  \n",
       "2041200312000002      Administrerende direktør      1210  \n",
       "2041200312000003             Butikkmedarbeider      5221  \n",
       "2041200312000004                 Førskolelærer      3320  \n",
       "2041200312000005                 Førskolelærer      3320  \n",
       "\n",
       "[5 rows x 21 columns]"
      ]
     },
     "execution_count": 4,
     "metadata": {},
     "output_type": "execute_result"
    }
   ],
   "source": [
    "df.tail()"
   ]
  },
  {
   "cell_type": "code",
   "execution_count": 13,
   "metadata": {},
   "outputs": [
    {
     "data": {
      "text/plain": [
       "<matplotlib.axes._subplots.AxesSubplot at 0x1a18a02fd0>"
      ]
     },
     "execution_count": 13,
     "metadata": {},
     "output_type": "execute_result"
    },
    {
     "data": {
      "image/png": "[encoded data removed]",
      "text/plain": [
       "<Figure size 432x288 with 1 Axes>"
      ]
     },
     "metadata": {},
     "output_type": "display_data"
    }
   ],
   "source": [
    "df.yrke_grovgruppe.value_counts().plot(\"bar\")"
   ]
  },
  {
   "cell_type": "code",
   "execution_count": 14,
   "metadata": {},
   "outputs": [
    {
     "name": "stdout",
     "output_type": "stream",
     "text": [
      "<class 'pandas.core.frame.DataFrame'>\n",
      "Index: 2985579 entries, 101200808000001 to 2041200312000005\n",
      "Data columns (total 21 columns):\n",
      "antall_stillinger             int64\n",
      "arbeidssted_fylke             object\n",
      "arbeidssted_fylkesnummer      float64\n",
      "arbeidssted_kommune           object\n",
      "arbeidssted_kommunenummer     float64\n",
      "arbeidssted_land              object\n",
      "arbeidssted_landkode          object\n",
      "isco_versjon                  object\n",
      "nav_enhet_kode                object\n",
      "offisiell_statistikk_flagg    int64\n",
      "registrert_dato               object\n",
      "sistepubl_dato                object\n",
      "statistikk_aar_mnd            int64\n",
      "stilling_kilde                object\n",
      "stillingstittel               object\n",
      "virksomhet_navn               object\n",
      "virksomhet_organisasjonsnr    float64\n",
      "yrke                          object\n",
      "yrke_grovgruppe               object\n",
      "yrkesbetegnelse               object\n",
      "yrkeskode                     int64\n",
      "dtypes: float64(3), int64(4), object(14)\n",
      "memory usage: 501.1+ MB\n"
     ]
    }
   ],
   "source": [
    "df.info()"
   ]
  },
  {
   "cell_type": "code",
   "execution_count": 16,
   "metadata": {},
   "outputs": [
    {
     "data": {
      "text/plain": [
       "array(['Ingen yrkesbakgrunn eller uoppgitt (2001-2011)',\n",
       "       'Kontorarbeid (2001-2011)', 'Meglere og konsulenter (2001-2011)',\n",
       "       'Bygg og anlegg (2001-2011)', 'Butikk- og salgsarbeid (2001-2011)',\n",
       "       'Ledere (2001-2011)', 'Industriarbeid (2001-2011)',\n",
       "       'Ingeniør- og ikt-fag (2001-2011)',\n",
       "       'Serviceyrker og annet arbeid (2001-2011)',\n",
       "       'Reiseliv og transport (2001-2011)', 'Undervisning (2001-2011)',\n",
       "       'Barne- og ungdomsarbeid (2001-2011)',\n",
       "       'Helse, pleie og omsorg (2001-2011)',\n",
       "       'Akademiske yrker (2001-2011)',\n",
       "       'Jordbruk, skogbruk og fiske (2001-2011)', 'Undervisning',\n",
       "       'Reiseliv og transport', 'Ledere', 'Helse, pleie og omsorg',\n",
       "       'Serviceyrker og annet arbeid', 'Barne- og ungdomsarbeid',\n",
       "       'Akademiske yrker', 'Butikk- og salgsarbeid', 'Bygg og anlegg',\n",
       "       'Ingeniør- og ikt-fag', 'Industriarbeid', 'Kontorarbeid',\n",
       "       'Meglere og konsulenter', 'Ingen yrkesbakgrunn eller uoppgitt',\n",
       "       'Jordbruk, skogbruk og fiske'], dtype=object)"
      ]
     },
     "execution_count": 16,
     "metadata": {},
     "output_type": "execute_result"
    }
   ],
   "source": [
    "df.yrke_grovgruppe.unique()\n"
   ]
  },
  {
   "cell_type": "code",
   "execution_count": null,
   "metadata": {},
   "outputs": [],
   "source": [
    "df = make_preprocessed_ads_data.clean_work_ad_data_pipeline(df)"
   ]
  },
  {
   "cell_type": "code",
   "execution_count": null,
   "metadata": {},
   "outputs": [],
   "source": [
    "make_preprocessed_ads_data.save_dataframe()"
   ]
  },
  {
   "cell_type": "code",
   "execution_count": null,
   "metadata": {},
   "outputs": [],
   "source": []
  }
 ],
 "metadata": {
  "kernelspec": {
   "display_name": "Python 3",
   "language": "python",
   "name": "python3"
  },
  "language_info": {
   "codemirror_mode": {
    "name": "ipython",
    "version": 3
   },
   "file_extension": ".py",
   "mimetype": "text/x-python",
   "name": "python",
   "nbconvert_exporter": "python",
   "pygments_lexer": "ipython3",
   "version": "3.6.5"
  }
 },
 "nbformat": 4,
 "nbformat_minor": 2
}
